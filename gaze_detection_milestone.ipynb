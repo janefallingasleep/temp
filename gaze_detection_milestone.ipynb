{
 "cells": [
  {
   "cell_type": "code",
   "execution_count": 1,
   "metadata": {},
   "outputs": [],
   "source": [
    "import numpy as np\n",
    "import cv2\n",
    "import matplotlib.pyplot as plt\n",
    "import matplotlib.image as mpimg\n",
    "import math\n"
   ]
  },
  {
   "cell_type": "code",
   "execution_count": 2,
   "metadata": {},
   "outputs": [],
   "source": [
    "def get_pupil_region(eye_frame):\n",
    "    kernel = np.ones((3, 3), np.uint8)\n",
    "    new_frame = cv2.bilateralFilter(eye_frame,10, 15, 15)\n",
    "    new_frame = cv2.threshold(new_frame, 50, 255, cv2.THRESH_BINARY)[1]\n",
    "    new_frame = cv2.erode(new_frame, kernel, iterations=3)\n",
    "    new_frame = cv2.dilate(new_frame, kernel, iterations=2)\n",
    "    return new_frame"
   ]
  },
  {
   "cell_type": "code",
   "execution_count": 13,
   "metadata": {},
   "outputs": [],
   "source": [
    "def fit_pupil(frame):\n",
    "    height, width = frame.shape[:2]\n",
    "    center = (width / 2, height / 2)\n",
    "    _, contours, _ = cv2.findContours(frame, cv2.RETR_TREE, cv2.CHAIN_APPROX_NONE)\n",
    "    contours = sorted(contours, key=cv2.contourArea)\n",
    "    try:\n",
    "        moments = cv2.moments(contours[-2])\n",
    "        x = int(moments['m10'] / moments['m00'])\n",
    "        y = int(moments['m01'] / moments['m00'])\n",
    "    except IndexError:\n",
    "        pass\n",
    "    elli = cv2.fitEllipse(contours[-2])\n",
    "    return x,y,elli\n",
    "    "
   ]
  },
  {
   "cell_type": "code",
   "execution_count": 21,
   "metadata": {},
   "outputs": [],
   "source": [
    "def detect_gaze(x, center_x):\n",
    "    hr = x / (center_x * 2)\n",
    "    if hr <= left_ratio:\n",
    "        text = \"Looking right\"\n",
    "    elif hr >= right_ratio:\n",
    "        text = \"Looking left\"\n",
    "    else :\n",
    "        text = \"Looking center\"\n",
    "    return text\n",
    "    "
   ]
  },
  {
   "cell_type": "code",
   "execution_count": 22,
   "metadata": {},
   "outputs": [],
   "source": [
    "#  pipeline \n",
    "fps = 45\n",
    "left_ratio = 0.45\n",
    "right_ratio = 0.6\n",
    "vidcap = cv2.VideoCapture('./data/eye1.mp4')\n",
    "succes,image = vidcap.read();\n",
    "modified = get_pupil_region(image);\n",
    "modified1 = cv2.cvtColor(modified, cv2.COLOR_BGR2GRAY);\n",
    "center_x, center_y, _ = fit_pupil(modified1);\n",
    "frame_height= image.shape[0]\n",
    "frame_width = image.shape[1]\n",
    "out = cv2.VideoWriter('out_gaze_detection.avi',cv2.VideoWriter_fourcc('M','J','P','G'), fps, (frame_width,frame_height))\n",
    "\n",
    "success,image = vidcap.read()\n",
    "count = 0\n",
    "success = True\n",
    "while count<1211:\n",
    "    success,image = vidcap.read()\n",
    "    count += 1\n",
    "    pupil_region = get_pupil_region(image);\n",
    "    pupil_region_gray = cv2.cvtColor(pupil_region, cv2.COLOR_RGB2GRAY);\n",
    "    cx, cy, ellipse = fit_pupil(pupil_region_gray);\n",
    "    gaze_state_text = detect_gaze(cx, center_x);\n",
    "    cv2.ellipse(image, ellipse,(0,255,0), 1)\n",
    "    cv2.circle(image, (cx,cy), 3, (0,0,255), thickness=1, lineType=8, shift=0) \n",
    "    modified_frame = cv2.putText(image, gaze_state_text, (20, 50), cv2.FONT_HERSHEY_DUPLEX, 0.8, (147, 58, 31), 2)\n",
    "    cv2.imshow('demo', modified_frame)\n",
    "    out.write(modified_frame)\n",
    "out.release()\n",
    "\n"
   ]
  },
  {
   "cell_type": "code",
   "execution_count": null,
   "metadata": {},
   "outputs": [],
   "source": []
  }
 ],
 "metadata": {
  "kernelspec": {
   "display_name": "Python 3",
   "language": "python",
   "name": "python3"
  },
  "language_info": {
   "codemirror_mode": {
    "name": "ipython",
    "version": 3
   },
   "file_extension": ".py",
   "mimetype": "text/x-python",
   "name": "python",
   "nbconvert_exporter": "python",
   "pygments_lexer": "ipython3",
   "version": "3.7.0"
  }
 },
 "nbformat": 4,
 "nbformat_minor": 2
}
